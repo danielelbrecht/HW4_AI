{
 "cells": [
  {
   "cell_type": "code",
   "execution_count": 1,
   "metadata": {},
   "outputs": [
    {
     "name": "stdout",
     "output_type": "stream",
     "text": [
      "game ends with score of 200.0\n"
     ]
    }
   ],
   "source": [
    "import gym\n",
    "env = gym.make('CartPole-v0')\n",
    "env.reset()\n",
    "\n",
    "score = 0\n",
    "action = env.action_space.sample()\n",
    "done = False\n",
    "\n",
    "while not done:\n",
    "    \n",
    "    env.render()\n",
    "    \n",
    "    observation, reward, done, info = env.step(action)\n",
    "    \n",
    "    if observation[3] + observation[2] > 0:\n",
    "        action = 1\n",
    "        \n",
    "    else:\n",
    "        action = 0\n",
    "        \n",
    "    \n",
    "        \n",
    "    score = score + reward\n",
    "    \n",
    "\n",
    "    \n",
    "print(\"game ends with score of\", score)\n",
    "env.close()\n",
    "exit()"
   ]
  }
 ],
 "metadata": {
  "kernelspec": {
   "display_name": "Python 3",
   "language": "python",
   "name": "python3"
  },
  "language_info": {
   "codemirror_mode": {
    "name": "ipython",
    "version": 3
   },
   "file_extension": ".py",
   "mimetype": "text/x-python",
   "name": "python",
   "nbconvert_exporter": "python",
   "pygments_lexer": "ipython3",
   "version": "3.7.0"
  }
 },
 "nbformat": 4,
 "nbformat_minor": 2
}
